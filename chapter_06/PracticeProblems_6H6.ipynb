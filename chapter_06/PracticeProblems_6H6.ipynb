{
 "cells": [
  {
   "cell_type": "code",
   "execution_count": 1,
   "metadata": {},
   "outputs": [],
   "source": [
    "import numpy as np\n",
    "import seaborn as sns\n",
    "import matplotlib.pyplot as plt\n",
    "import pandas as pd\n",
    "from sklearn.model_selection import train_test_split\n",
    "from sklearn.preprocessing import StandardScaler\n",
    "import arviz as az\n",
    "import pymc3 as pm\n",
    "import theano.tensor as tt\n",
    "%config InlineBackend.figure_format = 'retina'\n",
    "az.style.use('arviz-darkgrid')"
   ]
  },
  {
   "cell_type": "code",
   "execution_count": 2,
   "metadata": {},
   "outputs": [],
   "source": [
    "# Read the data\n",
    "howell1 = pd.read_csv('../Data/Howell1.csv',sep=';')\n",
    "\n",
    "# Normalize the age column\n",
    "howell1['age'] = StandardScaler().fit_transform(howell1['age'].values.reshape(-1,1))\n",
    "\n",
    "# Divide dataframe into two equal\n",
    "d1, d2 = train_test_split(howell1, test_size=0.5, random_state=42)"
   ]
  },
  {
   "cell_type": "code",
   "execution_count": 3,
   "metadata": {},
   "outputs": [
    {
     "data": {
      "text/html": [
       "<div>\n",
       "<style scoped>\n",
       "    .dataframe tbody tr th:only-of-type {\n",
       "        vertical-align: middle;\n",
       "    }\n",
       "\n",
       "    .dataframe tbody tr th {\n",
       "        vertical-align: top;\n",
       "    }\n",
       "\n",
       "    .dataframe thead th {\n",
       "        text-align: right;\n",
       "    }\n",
       "</style>\n",
       "<table border=\"1\" class=\"dataframe\">\n",
       "  <thead>\n",
       "    <tr style=\"text-align: right;\">\n",
       "      <th></th>\n",
       "      <th>height</th>\n",
       "      <th>weight</th>\n",
       "      <th>age</th>\n",
       "      <th>male</th>\n",
       "    </tr>\n",
       "  </thead>\n",
       "  <tbody>\n",
       "    <tr>\n",
       "      <td>count</td>\n",
       "      <td>272.000000</td>\n",
       "      <td>272.000000</td>\n",
       "      <td>272.000000</td>\n",
       "      <td>272.000000</td>\n",
       "    </tr>\n",
       "    <tr>\n",
       "      <td>mean</td>\n",
       "      <td>139.846248</td>\n",
       "      <td>36.518423</td>\n",
       "      <td>-0.007330</td>\n",
       "      <td>0.459559</td>\n",
       "    </tr>\n",
       "    <tr>\n",
       "      <td>std</td>\n",
       "      <td>26.206521</td>\n",
       "      <td>14.259042</td>\n",
       "      <td>0.981193</td>\n",
       "      <td>0.499280</td>\n",
       "    </tr>\n",
       "    <tr>\n",
       "      <td>min</td>\n",
       "      <td>55.880000</td>\n",
       "      <td>4.847764</td>\n",
       "      <td>-1.415702</td>\n",
       "      <td>0.000000</td>\n",
       "    </tr>\n",
       "    <tr>\n",
       "      <td>25%</td>\n",
       "      <td>130.340100</td>\n",
       "      <td>24.408919</td>\n",
       "      <td>-0.788525</td>\n",
       "      <td>0.000000</td>\n",
       "    </tr>\n",
       "    <tr>\n",
       "      <td>50%</td>\n",
       "      <td>149.225000</td>\n",
       "      <td>41.276872</td>\n",
       "      <td>-0.161348</td>\n",
       "      <td>0.000000</td>\n",
       "    </tr>\n",
       "    <tr>\n",
       "      <td>75%</td>\n",
       "      <td>157.638750</td>\n",
       "      <td>47.520849</td>\n",
       "      <td>0.610562</td>\n",
       "      <td>1.000000</td>\n",
       "    </tr>\n",
       "    <tr>\n",
       "      <td>max</td>\n",
       "      <td>172.999400</td>\n",
       "      <td>58.825212</td>\n",
       "      <td>2.829802</td>\n",
       "      <td>1.000000</td>\n",
       "    </tr>\n",
       "  </tbody>\n",
       "</table>\n",
       "</div>"
      ],
      "text/plain": [
       "           height      weight         age        male\n",
       "count  272.000000  272.000000  272.000000  272.000000\n",
       "mean   139.846248   36.518423   -0.007330    0.459559\n",
       "std     26.206521   14.259042    0.981193    0.499280\n",
       "min     55.880000    4.847764   -1.415702    0.000000\n",
       "25%    130.340100   24.408919   -0.788525    0.000000\n",
       "50%    149.225000   41.276872   -0.161348    0.000000\n",
       "75%    157.638750   47.520849    0.610562    1.000000\n",
       "max    172.999400   58.825212    2.829802    1.000000"
      ]
     },
     "execution_count": 3,
     "metadata": {},
     "output_type": "execute_result"
    }
   ],
   "source": [
    "d1.describe()"
   ]
  },
  {
   "cell_type": "markdown",
   "metadata": {},
   "source": [
    "## Polynomial models"
   ]
  },
  {
   "cell_type": "code",
   "execution_count": 4,
   "metadata": {},
   "outputs": [],
   "source": [
    "from sklearn.preprocessing import PolynomialFeatures\n",
    "import pickle\n",
    "from scipy.stats import norm\n",
    "from scipy.special import logsumexp\n",
    "\n",
    "def pickle_model(output_path: str, model, trace):\n",
    "    \"\"\"Pickles PyMC3 model and trace\"\"\"\n",
    "    with open(output_path, \"wb\") as buff:\n",
    "        pickle.dump({\"model\": model, \"trace\": trace}, buff)\n",
    "        \n",
    "def sample_polynomial_regressions(d1, xcol, ycol, degree=1, weak_prior=True):\n",
    "\n",
    "    yval = d1[ycol].values\n",
    "    # Polynomial features\n",
    "    polynomial_features= PolynomialFeatures(degree=degree, include_bias=False)\n",
    "    xval = polynomial_features.fit_transform(d1[xcol].values.reshape(-1,1))\n",
    "    \n",
    "    with pm.Model() as model_1:\n",
    "        a = pm.Normal('a', mu=10, sigma=10)\n",
    "        if weak_prior:\n",
    "            b = pm.Normal('b', mu=0, sigma=100, shape=(degree))\n",
    "        else:\n",
    "            b = pm.Normal('b', mu=0, sigma=5, shape=(degree))\n",
    "        sigma = pm.Uniform('sigma', lower=0, upper=10)\n",
    "        mu = pm.Deterministic('mu', a + tt.dot(xval,b))\n",
    "        h = pm.Normal('h', mu=mu, sigma=sigma, observed=yval)\n",
    "        trace_1 = pm.sample(cores=2)\n",
    "    \n",
    "    if weak_prior:\n",
    "        model_1.name = 'M%d_weak' % degree\n",
    "    else:\n",
    "        model_1.name = 'M%d_string' % degree\n",
    "    pickle_model('polynomial_model_degree_%d.pkl' % degree, model_1, trace_1)\n",
    "    return model_1,trace_1"
   ]
  },
  {
   "cell_type": "code",
   "execution_count": 5,
   "metadata": {},
   "outputs": [
    {
     "name": "stderr",
     "output_type": "stream",
     "text": [
      "Auto-assigning NUTS sampler...\n",
      "Initializing NUTS using jitter+adapt_diag...\n",
      "Multiprocess sampling (2 chains in 2 jobs)\n",
      "NUTS: [sigma, b, a]\n",
      "Sampling 2 chains, 1 divergences: 100%|██████████| 2000/2000 [01:37<00:00, 20.53draws/s]\n",
      "The number of effective samples is smaller than 25% for some parameters.\n",
      "Auto-assigning NUTS sampler...\n",
      "Initializing NUTS using jitter+adapt_diag...\n",
      "Multiprocess sampling (2 chains in 2 jobs)\n",
      "NUTS: [sigma, b, a]\n",
      "Sampling 2 chains, 0 divergences: 100%|██████████| 2000/2000 [01:18<00:00, 25.50draws/s]\n",
      "The acceptance probability does not match the target. It is 0.8887239704356314, but should be close to 0.8. Try to increase the number of tuning steps.\n",
      "The number of effective samples is smaller than 25% for some parameters.\n"
     ]
    }
   ],
   "source": [
    "M6_weak,trace6_weak = sample_polynomial_regressions(d1, xcol='age', ycol='height',degree=6, weak_prior=True)\n",
    "M6_strong,trace6_strong = sample_polynomial_regressions(d1, xcol='age', ycol='height',degree=6, weak_prior=False)"
   ]
  },
  {
   "cell_type": "code",
   "execution_count": 6,
   "metadata": {},
   "outputs": [],
   "source": [
    "def compute_WAIC_general(d1,trace):\n",
    "    \n",
    "    #yi\n",
    "    yi = d1['height'].values\n",
    "\n",
    "    # mu\n",
    "    degree = trace['b'].shape[1]\n",
    "    polynomial_features= PolynomialFeatures(degree=degree, include_bias=False)\n",
    "    xi = polynomial_features.fit_transform(d1['age'].values.reshape(-1,1))\n",
    "    a = trace['a'][:,np.newaxis]\n",
    "    b = trace['b']\n",
    "    mu = a + np.dot(b,xi.T)\n",
    "    \n",
    "    #sigma\n",
    "    sigma = trace['sigma'] \n",
    "    \n",
    "    # Make a nsamples X nobs log-liklihoods matrix\n",
    "    loglik = np.zeros(mu.shape)\n",
    "    nsamples = mu.shape[0]\n",
    "    nobs = mu.shape[1]\n",
    "    for i in range(nsamples):\n",
    "        loglik[i,:] = norm.logpdf(yi.ravel(), loc=mu[i,:].ravel(), scale=sigma[i])\n",
    "    \n",
    "    # compute lppd\n",
    "    lppd = np.zeros((nobs,1))\n",
    "    for i in range(nobs):\n",
    "        lppd[i] = logsumexp(loglik[:,i]) - np.log(nsamples)\n",
    "    \n",
    "    # computing pwaic\n",
    "    pwaic = np.zeros((nobs,1))\n",
    "    for i in range(nobs):\n",
    "        pwaic[i] = np.var(loglik[:,i])\n",
    "    \n",
    "    # finally compute WAIC\n",
    "    waic = -2*(np.sum(lppd) - np.sum(pwaic))\n",
    "    return waic\n",
    "\n",
    "def compare_models_waic(waic):\n",
    "    \n",
    "    df_waic = pd.DataFrame.from_dict(waic, orient='index')\n",
    "    df_waic.columns = ['WAIC']\n",
    "    df_waic['dWAIC'] = df_waic['WAIC'] - df_waic['WAIC'].min()\n",
    "    df_waic = df_waic.sort_values(by='dWAIC')\n",
    "\n",
    "    df_waic['weight'] = np.exp(-0.5*df_waic['dWAIC'])\n",
    "    df_waic['weight'] = df_waic['weight']/df_waic['weight'].sum()\n",
    "    return df_waic"
   ]
  },
  {
   "cell_type": "code",
   "execution_count": 10,
   "metadata": {},
   "outputs": [
    {
     "name": "stdout",
     "output_type": "stream",
     "text": [
      "                  WAIC     dWAIC   weight\n",
      "M6_weak    1908.425912  0.000000  0.89239\n",
      "M6_strong  1912.656684  4.230772  0.10761\n"
     ]
    },
    {
     "name": "stderr",
     "output_type": "stream",
     "text": [
      "/home/amit/anaconda3/envs/stat-rethink-pymc3/lib/python3.7/site-packages/arviz/stats/stats.py:1126: UserWarning: For one or more samples the posterior variance of the log predictive densities exceeds 0.4. This could be indication of WAIC starting to fail. \n",
      "See http://arxiv.org/abs/1507.04544 for details\n",
      "  \"For one or more samples the posterior variance of the log predictive \"\n"
     ]
    },
    {
     "data": {
      "text/html": [
       "<div>\n",
       "<style scoped>\n",
       "    .dataframe tbody tr th:only-of-type {\n",
       "        vertical-align: middle;\n",
       "    }\n",
       "\n",
       "    .dataframe tbody tr th {\n",
       "        vertical-align: top;\n",
       "    }\n",
       "\n",
       "    .dataframe thead th {\n",
       "        text-align: right;\n",
       "    }\n",
       "</style>\n",
       "<table border=\"1\" class=\"dataframe\">\n",
       "  <thead>\n",
       "    <tr style=\"text-align: right;\">\n",
       "      <th></th>\n",
       "      <th>rank</th>\n",
       "      <th>waic</th>\n",
       "      <th>p_waic</th>\n",
       "      <th>d_waic</th>\n",
       "      <th>weight</th>\n",
       "      <th>se</th>\n",
       "      <th>dse</th>\n",
       "      <th>warning</th>\n",
       "      <th>waic_scale</th>\n",
       "    </tr>\n",
       "  </thead>\n",
       "  <tbody>\n",
       "    <tr>\n",
       "      <td>&lt;pymc3.model.Model object at 0x7fdf28cd8890&gt;</td>\n",
       "      <td>0</td>\n",
       "      <td>1908.43</td>\n",
       "      <td>7.15844</td>\n",
       "      <td>0</td>\n",
       "      <td>0.828299</td>\n",
       "      <td>22.6619</td>\n",
       "      <td>0</td>\n",
       "      <td>True</td>\n",
       "      <td>deviance</td>\n",
       "    </tr>\n",
       "    <tr>\n",
       "      <td>&lt;pymc3.model.Model object at 0x7fdf1e5db890&gt;</td>\n",
       "      <td>1</td>\n",
       "      <td>1912.66</td>\n",
       "      <td>6.47605</td>\n",
       "      <td>4.23077</td>\n",
       "      <td>0.171701</td>\n",
       "      <td>23.0405</td>\n",
       "      <td>2.99223</td>\n",
       "      <td>True</td>\n",
       "      <td>deviance</td>\n",
       "    </tr>\n",
       "  </tbody>\n",
       "</table>\n",
       "</div>"
      ],
      "text/plain": [
       "                                             rank     waic   p_waic   d_waic  \\\n",
       "<pymc3.model.Model object at 0x7fdf28cd8890>    0  1908.43  7.15844        0   \n",
       "<pymc3.model.Model object at 0x7fdf1e5db890>    1  1912.66  6.47605  4.23077   \n",
       "\n",
       "                                                weight       se      dse  \\\n",
       "<pymc3.model.Model object at 0x7fdf28cd8890>  0.828299  22.6619        0   \n",
       "<pymc3.model.Model object at 0x7fdf1e5db890>  0.171701  23.0405  2.99223   \n",
       "\n",
       "                                             warning waic_scale  \n",
       "<pymc3.model.Model object at 0x7fdf28cd8890>    True   deviance  \n",
       "<pymc3.model.Model object at 0x7fdf1e5db890>    True   deviance  "
      ]
     },
     "execution_count": 10,
     "metadata": {},
     "output_type": "execute_result"
    }
   ],
   "source": [
    "# Deviance in d1\n",
    "waic_d1 = {'M6_weak':compute_WAIC_general(d1,trace6_weak),\n",
    "       'M6_strong':compute_WAIC_general(d1,trace6_strong)}\n",
    "df_waic_d1 = compare_models_waic(waic_d1)\n",
    "print(df_waic_d1)\n",
    "\n",
    "# using pymc3 funcition\n",
    "pm.compare({M6_weak:trace6_weak,M6_strong:trace6_strong})"
   ]
  },
  {
   "cell_type": "code",
   "execution_count": 8,
   "metadata": {},
   "outputs": [
    {
     "data": {
      "text/html": [
       "<div>\n",
       "<style scoped>\n",
       "    .dataframe tbody tr th:only-of-type {\n",
       "        vertical-align: middle;\n",
       "    }\n",
       "\n",
       "    .dataframe tbody tr th {\n",
       "        vertical-align: top;\n",
       "    }\n",
       "\n",
       "    .dataframe thead th {\n",
       "        text-align: right;\n",
       "    }\n",
       "</style>\n",
       "<table border=\"1\" class=\"dataframe\">\n",
       "  <thead>\n",
       "    <tr style=\"text-align: right;\">\n",
       "      <th></th>\n",
       "      <th>WAIC</th>\n",
       "      <th>dWAIC</th>\n",
       "      <th>weight</th>\n",
       "    </tr>\n",
       "  </thead>\n",
       "  <tbody>\n",
       "    <tr>\n",
       "      <td>M6_weak</td>\n",
       "      <td>1911.634712</td>\n",
       "      <td>0.000000</td>\n",
       "      <td>0.840315</td>\n",
       "    </tr>\n",
       "    <tr>\n",
       "      <td>M6_strong</td>\n",
       "      <td>1914.955861</td>\n",
       "      <td>3.321148</td>\n",
       "      <td>0.159685</td>\n",
       "    </tr>\n",
       "  </tbody>\n",
       "</table>\n",
       "</div>"
      ],
      "text/plain": [
       "                  WAIC     dWAIC    weight\n",
       "M6_weak    1911.634712  0.000000  0.840315\n",
       "M6_strong  1914.955861  3.321148  0.159685"
      ]
     },
     "execution_count": 8,
     "metadata": {},
     "output_type": "execute_result"
    }
   ],
   "source": [
    "# test-sample Deviance in d2\n",
    "waic_d2 = {'M6_weak':compute_WAIC_general(d2,trace6_weak),\n",
    "       'M6_strong':compute_WAIC_general(d2,trace6_strong)}\n",
    "df_waic_d2 = compare_models_waic(waic_d2)\n",
    "df_waic_d2"
   ]
  },
  {
   "cell_type": "markdown",
   "metadata": {},
   "source": [
    "## Compare the WAIC estimates from d1 and d2"
   ]
  },
  {
   "cell_type": "code",
   "execution_count": 9,
   "metadata": {},
   "outputs": [
    {
     "data": {
      "text/plain": [
       "<matplotlib.legend.Legend at 0x7fdf1b125f10>"
      ]
     },
     "execution_count": 9,
     "metadata": {},
     "output_type": "execute_result"
    },
    {
     "data": {
      "image/png": "[encoded data removed]",
      "text/plain": [
       "<Figure size 720x576 with 1 Axes>"
      ]
     },
     "metadata": {
      "image/png": {
       "height": 485,
       "width": 630
      },
      "needs_background": "light"
     },
     "output_type": "display_data"
    }
   ],
   "source": [
    "fig,ax = plt.subplots(figsize=(10,8))\n",
    "g=sns.catplot(y='WAIC',data=df_waic_d1.reset_index(),x='index',label='d1',ax=ax,color='r')\n",
    "h=sns.catplot(y='WAIC',data=df_waic_d2.reset_index(),x='index',label='d2',ax=ax,color='g')\n",
    "plt.close(g.fig)\n",
    "plt.close(h.fig)\n",
    "handles, labels = ax.get_legend_handles_labels()\n",
    "ax.legend(handles[5:7], labels[5:7])"
   ]
  }
 ],
 "metadata": {
  "file_extension": ".py",
  "kernelspec": {
   "display_name": "Python 3",
   "language": "python",
   "name": "python3"
  },
  "language_info": {
   "codemirror_mode": {
    "name": "ipython",
    "version": 3
   },
   "file_extension": ".py",
   "mimetype": "text/x-python",
   "name": "python",
   "nbconvert_exporter": "python",
   "pygments_lexer": "ipython3",
   "version": "3.7.4"
  },
  "mimetype": "text/x-python",
  "name": "python",
  "npconvert_exporter": "python",
  "pygments_lexer": "ipython3",
  "version": 3
 },
 "nbformat": 4,
 "nbformat_minor": 4
}
