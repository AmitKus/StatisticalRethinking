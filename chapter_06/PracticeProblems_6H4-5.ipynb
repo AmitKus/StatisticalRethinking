{
 "cells": [
  {
   "cell_type": "code",
   "execution_count": 1,
   "metadata": {},
   "outputs": [],
   "source": [
    "import numpy as np\n",
    "import seaborn as sns\n",
    "import matplotlib.pyplot as plt\n",
    "import pandas as pd\n",
    "from sklearn.model_selection import train_test_split\n",
    "from sklearn.preprocessing import StandardScaler\n",
    "import arviz as az\n",
    "import pymc3 as pm\n",
    "import theano.tensor as tt\n",
    "%config InlineBackend.figure_format = 'retina'\n",
    "az.style.use('arviz-darkgrid')"
   ]
  },
  {
   "cell_type": "code",
   "execution_count": 2,
   "metadata": {},
   "outputs": [],
   "source": [
    "# Read the data\n",
    "howell1 = pd.read_csv('../Data/Howell1.csv',sep=';')\n",
    "\n",
    "# Normalize the age column\n",
    "howell1['age'] = StandardScaler().fit_transform(howell1['age'].values.reshape(-1,1))\n",
    "\n",
    "# Divide dataframe into two equal\n",
    "d1, d2 = train_test_split(howell1, test_size=0.5, random_state=42)"
   ]
  },
  {
   "cell_type": "code",
   "execution_count": 3,
   "metadata": {},
   "outputs": [
    {
     "data": {
      "text/html": [
       "<div>\n",
       "<style scoped>\n",
       "    .dataframe tbody tr th:only-of-type {\n",
       "        vertical-align: middle;\n",
       "    }\n",
       "\n",
       "    .dataframe tbody tr th {\n",
       "        vertical-align: top;\n",
       "    }\n",
       "\n",
       "    .dataframe thead th {\n",
       "        text-align: right;\n",
       "    }\n",
       "</style>\n",
       "<table border=\"1\" class=\"dataframe\">\n",
       "  <thead>\n",
       "    <tr style=\"text-align: right;\">\n",
       "      <th></th>\n",
       "      <th>height</th>\n",
       "      <th>weight</th>\n",
       "      <th>age</th>\n",
       "      <th>male</th>\n",
       "    </tr>\n",
       "  </thead>\n",
       "  <tbody>\n",
       "    <tr>\n",
       "      <td>count</td>\n",
       "      <td>272.000000</td>\n",
       "      <td>272.000000</td>\n",
       "      <td>272.000000</td>\n",
       "      <td>272.000000</td>\n",
       "    </tr>\n",
       "    <tr>\n",
       "      <td>mean</td>\n",
       "      <td>139.846248</td>\n",
       "      <td>36.518423</td>\n",
       "      <td>-0.007330</td>\n",
       "      <td>0.459559</td>\n",
       "    </tr>\n",
       "    <tr>\n",
       "      <td>std</td>\n",
       "      <td>26.206521</td>\n",
       "      <td>14.259042</td>\n",
       "      <td>0.981193</td>\n",
       "      <td>0.499280</td>\n",
       "    </tr>\n",
       "    <tr>\n",
       "      <td>min</td>\n",
       "      <td>55.880000</td>\n",
       "      <td>4.847764</td>\n",
       "      <td>-1.415702</td>\n",
       "      <td>0.000000</td>\n",
       "    </tr>\n",
       "    <tr>\n",
       "      <td>25%</td>\n",
       "      <td>130.340100</td>\n",
       "      <td>24.408919</td>\n",
       "      <td>-0.788525</td>\n",
       "      <td>0.000000</td>\n",
       "    </tr>\n",
       "    <tr>\n",
       "      <td>50%</td>\n",
       "      <td>149.225000</td>\n",
       "      <td>41.276872</td>\n",
       "      <td>-0.161348</td>\n",
       "      <td>0.000000</td>\n",
       "    </tr>\n",
       "    <tr>\n",
       "      <td>75%</td>\n",
       "      <td>157.638750</td>\n",
       "      <td>47.520849</td>\n",
       "      <td>0.610562</td>\n",
       "      <td>1.000000</td>\n",
       "    </tr>\n",
       "    <tr>\n",
       "      <td>max</td>\n",
       "      <td>172.999400</td>\n",
       "      <td>58.825212</td>\n",
       "      <td>2.829802</td>\n",
       "      <td>1.000000</td>\n",
       "    </tr>\n",
       "  </tbody>\n",
       "</table>\n",
       "</div>"
      ],
      "text/plain": [
       "           height      weight         age        male\n",
       "count  272.000000  272.000000  272.000000  272.000000\n",
       "mean   139.846248   36.518423   -0.007330    0.459559\n",
       "std     26.206521   14.259042    0.981193    0.499280\n",
       "min     55.880000    4.847764   -1.415702    0.000000\n",
       "25%    130.340100   24.408919   -0.788525    0.000000\n",
       "50%    149.225000   41.276872   -0.161348    0.000000\n",
       "75%    157.638750   47.520849    0.610562    1.000000\n",
       "max    172.999400   58.825212    2.829802    1.000000"
      ]
     },
     "execution_count": 3,
     "metadata": {},
     "output_type": "execute_result"
    }
   ],
   "source": [
    "d1.describe()"
   ]
  },
  {
   "cell_type": "markdown",
   "metadata": {},
   "source": [
    "## Polynomial models"
   ]
  },
  {
   "cell_type": "code",
   "execution_count": 4,
   "metadata": {},
   "outputs": [],
   "source": [
    "from sklearn.preprocessing import PolynomialFeatures\n",
    "import pickle\n",
    "\n",
    "def pickle_model(output_path: str, model, trace):\n",
    "    \"\"\"Pickles PyMC3 model and trace\"\"\"\n",
    "    with open(output_path, \"wb\") as buff:\n",
    "        pickle.dump({\"model\": model, \"trace\": trace}, buff)\n",
    "        \n",
    "def sample_polynomial_regressions(d1, xcol, ycol, degree=1):\n",
    "\n",
    "    yval = d1[ycol].values\n",
    "    # Polynomial features\n",
    "    polynomial_features= PolynomialFeatures(degree=degree, include_bias=False)\n",
    "    xval = polynomial_features.fit_transform(d1[xcol].values.reshape(-1,1))\n",
    "    \n",
    "    with pm.Model() as model_1:\n",
    "        a = pm.Normal('a', mu=10, sigma=10)\n",
    "        b = pm.Normal('b', mu=0, sigma=1,shape=(degree))\n",
    "        sigma = pm.Uniform('sigma', lower=0, upper=10)\n",
    "        mu = pm.Deterministic('mu', a + tt.dot(xval,b))\n",
    "        h = pm.Normal('h', mu=mu, sigma=sigma, observed=yval)\n",
    "        trace_1 = pm.sample(cores=2)\n",
    "    \n",
    "    pickle_model('polynomial_model_degree_%d.pkl' % degree, model_1, trace_1)\n",
    "    return model_1,trace_1"
   ]
  },
  {
   "cell_type": "code",
   "execution_count": 5,
   "metadata": {},
   "outputs": [
    {
     "name": "stderr",
     "output_type": "stream",
     "text": [
      "Auto-assigning NUTS sampler...\n",
      "Initializing NUTS using jitter+adapt_diag...\n",
      "Multiprocess sampling (2 chains in 2 jobs)\n",
      "NUTS: [sigma, b, a]\n",
      "Sampling 2 chains, 1 divergences: 100%|██████████| 2000/2000 [00:02<00:00, 899.16draws/s] \n",
      "There was 1 divergence after tuning. Increase `target_accept` or reparameterize.\n",
      "Auto-assigning NUTS sampler...\n",
      "Initializing NUTS using jitter+adapt_diag...\n",
      "Multiprocess sampling (2 chains in 2 jobs)\n",
      "NUTS: [sigma, b, a]\n",
      "Sampling 2 chains, 0 divergences: 100%|██████████| 2000/2000 [00:18<00:00, 106.52draws/s]\n",
      "The acceptance probability does not match the target. It is 0.8920864956271821, but should be close to 0.8. Try to increase the number of tuning steps.\n",
      "Auto-assigning NUTS sampler...\n",
      "Initializing NUTS using jitter+adapt_diag...\n",
      "Multiprocess sampling (2 chains in 2 jobs)\n",
      "NUTS: [sigma, b, a]\n",
      "Sampling 2 chains, 0 divergences: 100%|██████████| 2000/2000 [00:12<00:00, 166.25draws/s]\n",
      "The acceptance probability does not match the target. It is 0.8814156733070779, but should be close to 0.8. Try to increase the number of tuning steps.\n",
      "Auto-assigning NUTS sampler...\n",
      "Initializing NUTS using jitter+adapt_diag...\n",
      "Multiprocess sampling (2 chains in 2 jobs)\n",
      "NUTS: [sigma, b, a]\n",
      "Sampling 2 chains, 0 divergences: 100%|██████████| 2000/2000 [00:13<00:00, 152.43draws/s]\n",
      "Auto-assigning NUTS sampler...\n",
      "Initializing NUTS using jitter+adapt_diag...\n",
      "Multiprocess sampling (2 chains in 2 jobs)\n",
      "NUTS: [sigma, b, a]\n",
      "Sampling 2 chains, 1 divergences: 100%|██████████| 2000/2000 [00:19<00:00, 100.44draws/s]\n",
      "Auto-assigning NUTS sampler...\n",
      "Initializing NUTS using jitter+adapt_diag...\n",
      "Multiprocess sampling (2 chains in 2 jobs)\n",
      "NUTS: [sigma, b, a]\n",
      "Sampling 2 chains, 0 divergences: 100%|██████████| 2000/2000 [00:40<00:00, 49.16draws/s]\n",
      "The acceptance probability does not match the target. It is 0.879308088015322, but should be close to 0.8. Try to increase the number of tuning steps.\n"
     ]
    }
   ],
   "source": [
    "M1,trace1 = sample_polynomial_regressions(d1, xcol='age', ycol='height',degree=1)\n",
    "M2,trace2 = sample_polynomial_regressions(d1, xcol='age', ycol='height',degree=2)\n",
    "M3,trace3 = sample_polynomial_regressions(d1, xcol='age', ycol='height',degree=3)\n",
    "M4,trace4 = sample_polynomial_regressions(d1, xcol='age', ycol='height',degree=4)\n",
    "M5,trace5 = sample_polynomial_regressions(d1, xcol='age', ycol='height',degree=5)\n",
    "M6,trace6 = sample_polynomial_regressions(d1, xcol='age', ycol='height',degree=6)    "
   ]
  },
  {
   "cell_type": "markdown",
   "metadata": {},
   "source": [
    "**Widely Applicable Information Criterion (WAIC):** It does not require a multivariate Gaussian posterior, and it is often more accurate than DIC. The distinguishing feature of WAIC is that it is pointwise. It access flexibility of a model with respect to fitting each observation, and then sumps up across all observations.\n",
    "\n",
    "$WAIC = -2 (\\sum_{i=1}^N \\log Pr(y_i) - \\sum_{i=1}^N V(y_i))$\n",
    "\n",
    "Where $V(y_i)$ is the variance in the log-likelihood for observation $i$ in the training sample.\n",
    "\n",
    "http://www.stat.columbia.edu/~gelman/research/published/waic_understand3.pdf\n",
    "\n",
    "logpdf will be imported from stats package. </br>\n",
    "\n",
    "$p(x) = \\frac{1}{\\sqrt{ 2 \\pi \\sigma^2 }} e^{ - \\frac{ (x - \\mu)^2 } {2 \\sigma^2} }$\n",
    "\n",
    "$log(p(x)) = -0.5*log{2 \\pi \\sigma^2} - \\frac{ (x - \\mu)^2 } {2 \\sigma^2}$\n",
    "\n",
    "From WAIC definition (compute for each $y_i$ or weigth data):\n",
    "\n",
    "$\\log Pr(y_i) = -0.5*log{2 \\pi \\sigma^2} - \\frac{ (y_i - \\mu_i)^2 } {2 \\sigma^2}"
   ]
  },
  {
   "cell_type": "code",
   "execution_count": 6,
   "metadata": {},
   "outputs": [],
   "source": [
    "from scipy.stats import norm\n",
    "from scipy.special import logsumexp"
   ]
  },
  {
   "cell_type": "code",
   "execution_count": 7,
   "metadata": {},
   "outputs": [],
   "source": [
    "def compute_WAIC_general(d1,trace):\n",
    "    \n",
    "    #yi\n",
    "    yi = d1['height'].values\n",
    "\n",
    "    # mu\n",
    "    degree = trace['b'].shape[1]\n",
    "    polynomial_features= PolynomialFeatures(degree=degree, include_bias=False)\n",
    "    xi = polynomial_features.fit_transform(d1['age'].values.reshape(-1,1))\n",
    "    a = trace['a'][:,np.newaxis]\n",
    "    b = trace['b']\n",
    "    mu = a + np.dot(b,xi.T)\n",
    "    \n",
    "    #sigma\n",
    "    sigma = trace['sigma'] \n",
    "    \n",
    "    # Make a nsamples X nobs log-liklihoods matrix\n",
    "    loglik = np.zeros(mu.shape)\n",
    "    nsamples = mu.shape[0]\n",
    "    nobs = mu.shape[1]\n",
    "    for i in range(nsamples):\n",
    "        loglik[i,:] = norm.logpdf(yi.ravel(), loc=mu[i,:].ravel(), scale=sigma[i])\n",
    "    \n",
    "    # compute lppd\n",
    "    lppd = np.zeros((nobs,1))\n",
    "    for i in range(nobs):\n",
    "        lppd[i] = logsumexp(loglik[:,i]) - np.log(nsamples)\n",
    "    \n",
    "    # computing pwaic\n",
    "    pwaic = np.zeros((nobs,1))\n",
    "    for i in range(nobs):\n",
    "        pwaic[i] = np.var(loglik[:,i])\n",
    "    \n",
    "    # finally compute WAIC\n",
    "    waic = -2*(np.sum(lppd) - np.sum(pwaic))\n",
    "    return waic\n",
    "\n",
    "def compare_models_waic(waic):\n",
    "    \n",
    "    df_waic = pd.DataFrame.from_dict(waic, orient='index')\n",
    "    df_waic.columns = ['WAIC']\n",
    "    df_waic['dWAIC'] = df_waic['WAIC'] - df_waic['WAIC'].min()\n",
    "    df_waic = df_waic.sort_values(by='dWAIC')\n",
    "\n",
    "    df_waic['weight'] = np.exp(-0.5*df_waic['dWAIC'])\n",
    "    df_waic['weight'] = df_waic['weight']/df_waic['weight'].sum()\n",
    "    return df_waic"
   ]
  },
  {
   "cell_type": "code",
   "execution_count": 9,
   "metadata": {},
   "outputs": [
    {
     "data": {
      "text/html": [
       "<div>\n",
       "<style scoped>\n",
       "    .dataframe tbody tr th:only-of-type {\n",
       "        vertical-align: middle;\n",
       "    }\n",
       "\n",
       "    .dataframe tbody tr th {\n",
       "        vertical-align: top;\n",
       "    }\n",
       "\n",
       "    .dataframe thead th {\n",
       "        text-align: right;\n",
       "    }\n",
       "</style>\n",
       "<table border=\"1\" class=\"dataframe\">\n",
       "  <thead>\n",
       "    <tr style=\"text-align: right;\">\n",
       "      <th></th>\n",
       "      <th>WAIC</th>\n",
       "      <th>dWAIC</th>\n",
       "      <th>weight</th>\n",
       "    </tr>\n",
       "  </thead>\n",
       "  <tbody>\n",
       "    <tr>\n",
       "      <td>M5</td>\n",
       "      <td>1975.307770</td>\n",
       "      <td>0.000000</td>\n",
       "      <td>9.944730e-01</td>\n",
       "    </tr>\n",
       "    <tr>\n",
       "      <td>M6</td>\n",
       "      <td>1985.692900</td>\n",
       "      <td>10.385129</td>\n",
       "      <td>5.527017e-03</td>\n",
       "    </tr>\n",
       "    <tr>\n",
       "      <td>M4</td>\n",
       "      <td>2065.593117</td>\n",
       "      <td>90.285347</td>\n",
       "      <td>2.468193e-20</td>\n",
       "    </tr>\n",
       "    <tr>\n",
       "      <td>M3</td>\n",
       "      <td>2204.453265</td>\n",
       "      <td>229.145495</td>\n",
       "      <td>1.734926e-50</td>\n",
       "    </tr>\n",
       "    <tr>\n",
       "      <td>M2</td>\n",
       "      <td>2501.324803</td>\n",
       "      <td>526.017033</td>\n",
       "      <td>5.949022e-115</td>\n",
       "    </tr>\n",
       "    <tr>\n",
       "      <td>M1</td>\n",
       "      <td>3073.656177</td>\n",
       "      <td>1098.348407</td>\n",
       "      <td>3.120806e-239</td>\n",
       "    </tr>\n",
       "  </tbody>\n",
       "</table>\n",
       "</div>"
      ],
      "text/plain": [
       "           WAIC        dWAIC         weight\n",
       "M5  1975.307770     0.000000   9.944730e-01\n",
       "M6  1985.692900    10.385129   5.527017e-03\n",
       "M4  2065.593117    90.285347   2.468193e-20\n",
       "M3  2204.453265   229.145495   1.734926e-50\n",
       "M2  2501.324803   526.017033  5.949022e-115\n",
       "M1  3073.656177  1098.348407  3.120806e-239"
      ]
     },
     "execution_count": 9,
     "metadata": {},
     "output_type": "execute_result"
    }
   ],
   "source": [
    "# test-sample Deviance in d2\n",
    "waic_d2 = {'M1':compute_WAIC_general(d2,trace1),\n",
    "       'M2':compute_WAIC_general(d2,trace2),\n",
    "       'M3':compute_WAIC_general(d2,trace3),\n",
    "       'M4':compute_WAIC_general(d2,trace4),\n",
    "       'M5':compute_WAIC_general(d2,trace5),\n",
    "       'M6':compute_WAIC_general(d2,trace6)}\n",
    "df_waic_d2 = compare_models_waic(waic_d2)\n",
    "df_waic_d2"
   ]
  },
  {
   "cell_type": "code",
   "execution_count": 8,
   "metadata": {},
   "outputs": [
    {
     "data": {
      "text/html": [
       "<div>\n",
       "<style scoped>\n",
       "    .dataframe tbody tr th:only-of-type {\n",
       "        vertical-align: middle;\n",
       "    }\n",
       "\n",
       "    .dataframe tbody tr th {\n",
       "        vertical-align: top;\n",
       "    }\n",
       "\n",
       "    .dataframe thead th {\n",
       "        text-align: right;\n",
       "    }\n",
       "</style>\n",
       "<table border=\"1\" class=\"dataframe\">\n",
       "  <thead>\n",
       "    <tr style=\"text-align: right;\">\n",
       "      <th></th>\n",
       "      <th>WAIC</th>\n",
       "      <th>dWAIC</th>\n",
       "      <th>weight</th>\n",
       "    </tr>\n",
       "  </thead>\n",
       "  <tbody>\n",
       "    <tr>\n",
       "      <td>M5</td>\n",
       "      <td>1968.772168</td>\n",
       "      <td>0.000000</td>\n",
       "      <td>9.083531e-01</td>\n",
       "    </tr>\n",
       "    <tr>\n",
       "      <td>M6</td>\n",
       "      <td>1973.359548</td>\n",
       "      <td>4.587381</td>\n",
       "      <td>9.164688e-02</td>\n",
       "    </tr>\n",
       "    <tr>\n",
       "      <td>M4</td>\n",
       "      <td>2029.390863</td>\n",
       "      <td>60.618696</td>\n",
       "      <td>6.238386e-14</td>\n",
       "    </tr>\n",
       "    <tr>\n",
       "      <td>M3</td>\n",
       "      <td>2133.274140</td>\n",
       "      <td>164.501972</td>\n",
       "      <td>1.726256e-36</td>\n",
       "    </tr>\n",
       "    <tr>\n",
       "      <td>M2</td>\n",
       "      <td>2377.114456</td>\n",
       "      <td>408.342288</td>\n",
       "      <td>1.940231e-89</td>\n",
       "    </tr>\n",
       "    <tr>\n",
       "      <td>M1</td>\n",
       "      <td>2861.238013</td>\n",
       "      <td>892.465845</td>\n",
       "      <td>1.451305e-194</td>\n",
       "    </tr>\n",
       "  </tbody>\n",
       "</table>\n",
       "</div>"
      ],
      "text/plain": [
       "           WAIC       dWAIC         weight\n",
       "M5  1968.772168    0.000000   9.083531e-01\n",
       "M6  1973.359548    4.587381   9.164688e-02\n",
       "M4  2029.390863   60.618696   6.238386e-14\n",
       "M3  2133.274140  164.501972   1.726256e-36\n",
       "M2  2377.114456  408.342288   1.940231e-89\n",
       "M1  2861.238013  892.465845  1.451305e-194"
      ]
     },
     "execution_count": 8,
     "metadata": {},
     "output_type": "execute_result"
    }
   ],
   "source": [
    "# Deviance in d1\n",
    "waic_d1 = {'M1':compute_WAIC_general(d1,trace1),\n",
    "       'M2':compute_WAIC_general(d1,trace2),\n",
    "       'M3':compute_WAIC_general(d1,trace3),\n",
    "       'M4':compute_WAIC_general(d1,trace4),\n",
    "       'M5':compute_WAIC_general(d1,trace5),\n",
    "       'M6':compute_WAIC_general(d1,trace6)}\n",
    "df_waic_d1 = compare_models_waic(waic_d1)\n",
    "df_waic_d1"
   ]
  },
  {
   "cell_type": "markdown",
   "metadata": {},
   "source": [
    "## Compare the WAIC estimates from d1 and d2"
   ]
  },
  {
   "cell_type": "code",
   "execution_count": 38,
   "metadata": {},
   "outputs": [
    {
     "data": {
      "text/plain": [
       "<matplotlib.legend.Legend at 0x7fdbffcaea10>"
      ]
     },
     "execution_count": 38,
     "metadata": {},
     "output_type": "execute_result"
    },
    {
     "data": {
      "image/png": "[encoded data removed]",
      "text/plain": [
       "<Figure size 720x576 with 1 Axes>"
      ]
     },
     "metadata": {
      "image/png": {
       "height": 485,
       "width": 630
      },
      "needs_background": "light"
     },
     "output_type": "display_data"
    }
   ],
   "source": [
    "fig,ax = plt.subplots(figsize=(10,8))\n",
    "g=sns.catplot(y='WAIC',data=df_waic_d1.reset_index(),x='index',label='d1',ax=ax,color='r')\n",
    "h=sns.catplot(y='WAIC',data=df_waic_d2.reset_index(),x='index',label='d2',ax=ax,color='g')\n",
    "plt.close(g.fig)\n",
    "plt.close(h.fig)\n",
    "handles, labels = ax.get_legend_handles_labels()\n",
    "ax.legend(handles[5:7], labels[5:7])"
   ]
  },
  {
   "cell_type": "markdown",
   "metadata": {},
   "source": [
    "## Conclusion: WAIC does a pretty good job in estimating the test deviance. The model ordering is exactly the same!!"
   ]
  },
  {
   "cell_type": "code",
   "execution_count": null,
   "metadata": {},
   "outputs": [],
   "source": []
  }
 ],
 "metadata": {
  "file_extension": ".py",
  "kernelspec": {
   "display_name": "Python 3",
   "language": "python",
   "name": "python3"
  },
  "language_info": {
   "codemirror_mode": {
    "name": "ipython",
    "version": 3
   },
   "file_extension": ".py",
   "mimetype": "text/x-python",
   "name": "python",
   "nbconvert_exporter": "python",
   "pygments_lexer": "ipython3",
   "version": "3.7.4"
  },
  "mimetype": "text/x-python",
  "name": "python",
  "npconvert_exporter": "python",
  "pygments_lexer": "ipython3",
  "version": 3
 },
 "nbformat": 4,
 "nbformat_minor": 4
}
